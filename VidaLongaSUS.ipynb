{
  "nbformat": 4,
  "nbformat_minor": 0,
  "metadata": {
    "colab": {
      "name": "VidaLongaSUS.ipynb",
      "version": "0.3.2",
      "provenance": [],
      "collapsed_sections": []
    }
  },
  "cells": [
    {
      "metadata": {
        "id": "3rmAAEG6jcFB",
        "colab_type": "code",
        "colab": {
          "base_uri": "https://localhost:8080/",
          "height": 34
        },
        "outputId": "4d8b6303-0a8e-4fd4-9bd7-25c6a95b0d44"
      },
      "cell_type": "code",
      "source": [
        "import pandas as pd\n",
        "from google.colab import drive\n",
        "import numpy as np\n",
        "from datetime import date, datetime\n",
        "from sklearn import preprocessing, model_selection\n",
        "from sklearn.metrics import accuracy_score\n",
        "from sklearn.neighbors import KNeighborsClassifier"
      ],
      "execution_count": 2,
      "outputs": [
        {
          "output_type": "stream",
          "text": [
            "Using TensorFlow backend.\n"
          ],
          "name": "stderr"
        }
      ]
    },
    {
      "metadata": {
        "id": "iAN0fYrv0CS3",
        "colab_type": "code",
        "colab": {
          "base_uri": "https://localhost:8080/",
          "height": 105
        },
        "outputId": "f73128f4-5672-4cdc-8a20-6c3ff5cceb68"
      },
      "cell_type": "code",
      "source": [
        "#faz conexão com o google drive, onde estão os dados\n",
        "drive.mount('/content/drive')\n",
        "\n"
      ],
      "execution_count": 3,
      "outputs": [
        {
          "output_type": "stream",
          "text": [
            "Go to this URL in a browser: https://accounts.google.com/o/oauth2/auth?client_id=947318989803-6bn6qk8qdgf4n4g3pfee6491hc0brc4i.apps.googleusercontent.com&redirect_uri=urn%3Aietf%3Awg%3Aoauth%3A2.0%3Aoob&scope=email%20https%3A%2F%2Fwww.googleapis.com%2Fauth%2Fdocs.test%20https%3A%2F%2Fwww.googleapis.com%2Fauth%2Fdrive%20https%3A%2F%2Fwww.googleapis.com%2Fauth%2Fdrive.photos.readonly%20https%3A%2F%2Fwww.googleapis.com%2Fauth%2Fpeopleapi.readonly&response_type=code\n",
            "Enter your authorization code:\n",
            "··········\n",
            "Mounted at /content/drive\n"
          ],
          "name": "stdout"
        }
      ]
    },
    {
      "metadata": {
        "id": "sjQinmeN6kLo",
        "colab_type": "code",
        "colab": {}
      },
      "cell_type": "code",
      "source": [
        "#Carrega o diretório do dataset\n",
        "file_path = \"/content/drive/My Drive/Hackaturin/hackaturing.dsv\"\n"
      ],
      "execution_count": 0,
      "outputs": []
    },
    {
      "metadata": {
        "id": "dHG7-PnZ5hw8",
        "colab_type": "code",
        "colab": {
          "base_uri": "https://localhost:8080/",
          "height": 71
        },
        "outputId": "793c861c-694f-4c5d-990d-3210109c1ad0"
      },
      "cell_type": "code",
      "source": [
        "#Lê o dataset \n",
        "df = pd.read_csv(file_path, sep='|')\n"
      ],
      "execution_count": 5,
      "outputs": [
        {
          "output_type": "stream",
          "text": [
            "/usr/local/lib/python2.7/dist-packages/IPython/core/interactiveshell.py:2718: DtypeWarning: Columns (7) have mixed types. Specify dtype option on import or set low_memory=False.\n",
            "  interactivity=interactivity, compiler=compiler, result=result)\n"
          ],
          "name": "stderr"
        }
      ]
    },
    {
      "metadata": {
        "id": "-dSKcba9D4P5",
        "colab_type": "code",
        "colab": {}
      },
      "cell_type": "code",
      "source": [
        "#Filtra informações sobre paciente que já realizou gastroplastia e também de pacientes que foram diagnosticados com obesidade\n",
        "listacod = [31001076,31002218,31002390,84430095,84430109,84430460,84430540,84430478] #IDs referentes a Gastroplastia\n",
        "cirurgia = df[df['base_hackaturing.servico'].isin(listacod)]\n",
        "\n",
        "listacod = ['E660','E661','E662','E668','E669'] #IDs referentes a Obesidade\n",
        "obesidade = df[df['base_hackaturing.cid'].isin(listacod)]"
      ],
      "execution_count": 0,
      "outputs": []
    },
    {
      "metadata": {
        "id": "Cn9EkhsMP7oE",
        "colab_type": "code",
        "colab": {}
      },
      "cell_type": "code",
      "source": [
        "#Limpa informações de usuarios repetidas\n",
        "obesidades = obesidade.drop_duplicates(subset='base_hackaturing.id_beneficiario', keep='first')\n",
        "\n",
        "cirurgia = cirurgia.drop_duplicates(subset='base_hackaturing.id_beneficiario', keep='first')"
      ],
      "execution_count": 0,
      "outputs": []
    },
    {
      "metadata": {
        "id": "ROFBXcLIH-D7",
        "colab_type": "code",
        "colab": {}
      },
      "cell_type": "code",
      "source": [
        "#Relaciona pacientes que foram diagnosticados com obesidade e que já realizaram gastroplastia\n",
        "count = 0\n",
        "lista = np.zeros(len(obesidade))\n",
        "#merged = pd.merge(obesidades, cirurgia, how='inner', on='base_hackaturing.id_beneficiario', validate='one_to_one')\n",
        "#lista = merged['base_hackaturing.id_beneficiario']\n",
        "for j in obesidade['base_hackaturing.id_beneficiario']:\n",
        "  for i in cirurgia['base_hackaturing.id_beneficiario']:\n",
        "    if i == j:\n",
        "      lista[count] = 1\n",
        "  count += 1\n",
        "\n",
        "#As labels são um quando o paciente realizou a cirurgia e zero se não realizou\n",
        "Y = lista"
      ],
      "execution_count": 0,
      "outputs": []
    },
    {
      "metadata": {
        "id": "84ZCgdu_X078",
        "colab_type": "code",
        "colab": {}
      },
      "cell_type": "code",
      "source": [
        "#Filtra informações necessárias para a modelagem\n",
        "sexo = obesidade['base_hackaturing.sexo'].tolist()\n",
        "nascimento = obesidade['base_hackaturing.data_nascimento'].fillna(0).tolist()\n",
        "uf = obesidade['base_hackaturing.uf'].tolist()\n",
        "carater = obesidade['base_hackaturing.carater_atendimento'].tolist()\n",
        "obesity = np.ones(len(obesidade))"
      ],
      "execution_count": 0,
      "outputs": []
    },
    {
      "metadata": {
        "id": "ip9KZdO2raDh",
        "colab_type": "code",
        "colab": {}
      },
      "cell_type": "code",
      "source": [
        "#Calcula a idade do paciente\n",
        "today = datetime.today()\n",
        "age = np.zeros(len(nascimento))\n",
        "for i in range(len(nascimento)):\n",
        "  if nascimento[i] == 0:\n",
        "    continue\n",
        "  variavel = datetime.strptime(str(nascimento[i]), '%Y-%m-%d')\n",
        "  idade = today.year - variavel.year - ((today.month, variavel.day) < (variavel.month, variavel.day))\n",
        "  nascimento[i] = idade\n",
        "  \n"
      ],
      "execution_count": 0,
      "outputs": []
    },
    {
      "metadata": {
        "id": "3nR0JhWey0gl",
        "colab_type": "code",
        "colab": {}
      },
      "cell_type": "code",
      "source": [
        "#Prepara os dados para o modelo e cria a matriz de variáveis\n",
        "nascimento = np.array(nascimento)\n",
        "\n",
        "le = preprocessing.LabelEncoder()\n",
        "le.fit(carater)\n",
        "carater = le.transform(carater) \n",
        "\n",
        "le = preprocessing.LabelEncoder()\n",
        "le.fit(sexo)\n",
        "sexo = le.transform(sexo) \n",
        "\n",
        "le = preprocessing.LabelEncoder()\n",
        "le.fit(uf)\n",
        "uf = le.transform(uf) \n",
        "\n",
        "X = np.matrix([nascimento, sexo, uf, obesity, carater]).T"
      ],
      "execution_count": 0,
      "outputs": []
    },
    {
      "metadata": {
        "id": "Wv5xKvqExql3",
        "colab_type": "code",
        "colab": {}
      },
      "cell_type": "code",
      "source": [
        "#Normaliza o dado \n",
        "scaler = preprocessing.StandardScaler()\n",
        "scaler.fit(X)\n",
        "X = scaler.transform(X)"
      ],
      "execution_count": 0,
      "outputs": []
    },
    {
      "metadata": {
        "id": "9s_UfHZH2N-X",
        "colab_type": "code",
        "colab": {}
      },
      "cell_type": "code",
      "source": [
        "#Divide o dataset entre conjunto de treino e validação\n",
        "X_train, X_validation, Y_train, Y_validation = model_selection.train_test_split(X, Y, test_size=0.15, random_state=42)\n"
      ],
      "execution_count": 0,
      "outputs": []
    },
    {
      "metadata": {
        "id": "9JTTAzOJBIwV",
        "colab_type": "code",
        "colab": {
          "base_uri": "https://localhost:8080/",
          "height": 51
        },
        "outputId": "030fe4a1-eca5-4f3b-cd18-fcaabe51f3c5"
      },
      "cell_type": "code",
      "source": [
        "#create the  KNeighborsClassifier\n",
        "clf = KNeighborsClassifier(n_neighbors=4)\n",
        "\n",
        "#train model\n",
        "clf.fit(X_train, Y_train)\n",
        "float_formatter = lambda x: \"%.2f\" % x\n",
        "#print(float_formatter(clf.score(X_validation, Y_validation)*100))\n",
        "#predict\n",
        "print(\"Acuracia media no conjunto de treinamento: \"+ float_formatter(clf.score(X_train, Y_train)*100)+\"%\")\n",
        "\n",
        "print(\"Acuracia media no conjunto de validacao: \"+ float_formatter(clf.score(X_validation, Y_validation)*100)+\"%\")\n"
      ],
      "execution_count": 48,
      "outputs": [
        {
          "output_type": "stream",
          "text": [
            "Acuracia media no conjunto de treinamento: 80.89%\n",
            "Acuracia media no conjunto de validacao: 80.09%\n"
          ],
          "name": "stdout"
        }
      ]
    },
    {
      "metadata": {
        "id": "gTBjkvTKLNw9",
        "colab_type": "code",
        "colab": {}
      },
      "cell_type": "code",
      "source": [
        ""
      ],
      "execution_count": 0,
      "outputs": []
    }
  ]
}